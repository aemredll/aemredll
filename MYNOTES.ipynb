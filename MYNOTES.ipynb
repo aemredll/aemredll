{
  "cells": [
    {
      "cell_type": "markdown",
      "metadata": {
        "id": "view-in-github",
        "colab_type": "text"
      },
      "source": [
        "<a href=\"https://colab.research.google.com/github/aemredll/aemredll/blob/main/MYNOTES.ipynb\" target=\"_parent\"><img src=\"https://colab.research.google.com/assets/colab-badge.svg\" alt=\"Open In Colab\"/></a>"
      ]
    },
    {
      "cell_type": "markdown",
      "metadata": {
        "id": "669_9n1JYh9s"
      },
      "source": [
        "# **DEĞİŞKENLER(ÖNCELİKLER-KURALLAR)**"
      ]
    },
    {
      "cell_type": "code",
      "execution_count": null,
      "metadata": {
        "id": "I40Hwe1FK7JP"
      },
      "outputs": [],
      "source": [
        "toplam 4=1\n",
        "n=int(input(\"sayı giriniz:\"))\n",
        "for i in range(1,n+1):\n",
        "  toplam=toplam*i\n",
        "print(toplam)"
      ]
    },
    {
      "cell_type": "markdown",
      "metadata": {
        "id": "ePlqatyVYt_B"
      },
      "source": [
        "**Değiken Atarken:**\n",
        "-Boşluk bırakıp değişken atayamazsın(Başta)\n",
        "\n",
        "-Boşluk karakeride kullanılamaz.\n",
        "\n",
        "-Sayılar kullanılamaz.(Başta)\n"
      ]
    },
    {
      "cell_type": "markdown",
      "metadata": {
        "id": "9QwM0Y71Zczn"
      },
      "source": [
        "**Yorum Satırları**\n",
        "\n",
        "(#) işareti kullanılır\n",
        "\n",
        "\n",
        "\n",
        "```\n",
        "# YORUM\n",
        "```\n",
        "\n"
      ]
    },
    {
      "cell_type": "code",
      "execution_count": null,
      "metadata": {
        "id": "T2Xf_lAOUcbc"
      },
      "outputs": [],
      "source": [
        ""
      ]
    },
    {
      "cell_type": "markdown",
      "metadata": {
        "id": "7MCoIbmIa8Tz"
      },
      "source": [
        "**MATEMATİK OPERATÖRLERİ**\n",
        "\n",
        "* ÇARPMA = *\n",
        "* BÖLME = /\n",
        "* ÇIKARMA = -\n",
        "* TOPLAMA = +\n",
        "* mod = % ya da //### "
      ]
    },
    {
      "cell_type": "code",
      "source": [
        "5 ## 2"
      ],
      "metadata": {
        "colab": {
          "base_uri": "https://localhost:8080/"
        },
        "id": "qOYACF5SWAXG",
        "outputId": "30126440-c6ed-41b8-fe68-d9c5b01b1c0d"
      },
      "execution_count": null,
      "outputs": [
        {
          "output_type": "execute_result",
          "data": {
            "text/plain": [
              "5"
            ]
          },
          "metadata": {},
          "execution_count": 1
        }
      ]
    },
    {
      "cell_type": "markdown",
      "metadata": {
        "id": "SFtYr60PZ576"
      },
      "source": [
        "*float / int farkları*\n",
        "\n",
        "**int:**tam sayı\n",
        "\n",
        "**float:**ondalıklı sayı\n",
        "\n",
        "\n",
        "\n",
        "\n"
      ]
    },
    {
      "cell_type": "markdown",
      "metadata": {
        "id": "GiooL3ecbiHW"
      },
      "source": [
        "**STRİNG VERİ TİPİ**\n",
        "* string: metin\n",
        "* (\"\") ya da ('') kullanılır.\n",
        "* isim = \"Ali EMRE\"\n",
        "* Stringlerde harfler belirli indislere kayıt olur.\n",
        "\n",
        "\n",
        "```\n",
        "yazi = \"Ali Emre\"\n",
        "print(yazi[2:5])\n",
        "```\n",
        "* Peki herhangi bir harfin ya da harflerin(kelimelerin) indisini nasıl öğreniriz:\n",
        "\n",
        "\n",
        "```\n",
        "print(isim.find(\"Ali\"))\n",
        "# dersem Ali metninin indisini program bana gösterir.\n",
        "```\n",
        "**len(..) fonksiyonu:**\n",
        "* Metnin karakter uzunluğunu gösterir.\n",
        "\n",
        "**Stringlerde Toplama İşlemi**\n",
        "* İki metni birleştirir.\n"
      ]
    },
    {
      "cell_type": "code",
      "source": [
        "n=input(\"Sayı giriniz:\")\n"
      ],
      "metadata": {
        "colab": {
          "base_uri": "https://localhost:8080/",
          "height": 200
        },
        "id": "Ak9dXpzXVVEQ",
        "outputId": "75a3f726-e19d-4ab4-9a8f-f0c8fc463373"
      },
      "execution_count": null,
      "outputs": [
        {
          "name": "stdout",
          "output_type": "stream",
          "text": [
            "Sayı giriniz:5.2\n"
          ]
        },
        {
          "output_type": "error",
          "ename": "NameError",
          "evalue": "ignored",
          "traceback": [
            "\u001b[0;31m---------------------------------------------------------------------------\u001b[0m",
            "\u001b[0;31mNameError\u001b[0m                                 Traceback (most recent call last)",
            "\u001b[0;32m<ipython-input-13-216c0a1b802f>\u001b[0m in \u001b[0;36m<module>\u001b[0;34m()\u001b[0m\n\u001b[1;32m      1\u001b[0m \u001b[0mn\u001b[0m\u001b[0;34m=\u001b[0m\u001b[0minput\u001b[0m\u001b[0;34m(\u001b[0m\u001b[0;34m\"Sayı giriniz:\"\u001b[0m\u001b[0;34m)\u001b[0m\u001b[0;34m\u001b[0m\u001b[0;34m\u001b[0m\u001b[0m\n\u001b[0;32m----> 2\u001b[0;31m \u001b[0mprintint\u001b[0m\u001b[0;34m(\u001b[0m\u001b[0;34m(\u001b[0m\u001b[0mn\u001b[0m\u001b[0;34m)\u001b[0m\u001b[0;34m)\u001b[0m\u001b[0;34m\u001b[0m\u001b[0;34m\u001b[0m\u001b[0m\n\u001b[0m",
            "\u001b[0;31mNameError\u001b[0m: name 'printint' is not defined"
          ]
        }
      ]
    },
    {
      "cell_type": "markdown",
      "metadata": {
        "id": "hEoLSdOEeYCn"
      },
      "source": [
        "**VERİ DÖNÜŞÜMLERİ**\n",
        "* İlk başta ***type(..)*** fonksiyonunu anlayalım: Fonksiyonun içindeki karakterin veri tipini gösterir.\n",
        "*Şimdi nasıl dönüşüm yapabiliriz:\n",
        "\n",
        "\n",
        "```\n",
        "a=\"500\"\n",
        "b=4\n",
        "print(a*b)\n",
        "#dersek a'yı 4 kere yazdırır çünkü onu string olarak algılar.O zaman:\n",
        "print(int(a)*b)\n",
        "# yaparsam a yı tamsayıya çeviririm ve matematik işlemini gerçekleştirmiş olurum.\n",
        "```\n",
        "\n",
        "\n"
      ]
    },
    {
      "cell_type": "markdown",
      "metadata": {
        "id": "M3SFpcrFh9Ew"
      },
      "source": [
        "**PRİNT FONKSİYONU**\n",
        "* \\n : satır başına atar\n",
        "* \\t : aralarında bir tab boşluk bırakır.\n",
        "* *sep* parametresi yazdırılan değerler arasında boşluk bırakır.\n",
        "\n",
        "\n",
        "```\n",
        "print(a,b,sep=\"\")\n",
        "print(*a)\n",
        "# * işaretide teker teker indisleri çağırır.\n",
        "```\n",
        "* String sınıfının bir özelliği olarak print fonksiyonunda şöyle bir özelliği kullanabiliriz:\n",
        "\n",
        "\n",
        "```\n",
        "isim=\"Ali\"\n",
        "soyisim=\"Utku\"\n",
        "print(\"Merhaba sayın {} {} , hosgeldiniz.\".format(isim,soyisim))\n",
        "```\n",
        "* Yukardaki örnekte olduğu gibi değişkenleri süslü parantez işareti ve **format** fonksiyonunu kullanarak daha rahat bir atama sağladık bu ilerdeki string işlemlerinde karışıklığı önleyecektir.\n",
        "\n",
        " ***YA DA***\n",
        "```\n",
        " Print(\"Merhaba %s %s bey , hos geldiniz\" %\"(isim,soyisim))\n",
        "```\n",
        "* Bu şekilde %s (stringten gelir) şeklinde de kullanabiliriz.\n",
        "\n",
        "\n",
        "\n",
        "\n",
        "\n",
        "\n",
        "\n"
      ]
    },
    {
      "cell_type": "code",
      "execution_count": null,
      "metadata": {
        "id": "Dewiy04AK-Zp"
      },
      "outputs": [],
      "source": [
        "print(\"m\")"
      ]
    },
    {
      "cell_type": "markdown",
      "metadata": {
        "id": "4m-GGXcwFpjq"
      },
      "source": [
        "***PRINT() FONKSİYONU FİLE VE FLUSH PARAMETRELERİ***\n",
        "\n",
        "**File Parametresi**\n",
        "* Öncelikle dosya açmalıyız:\n",
        "\n",
        "\n",
        "```\n",
        "dosya= open(\"metinbelgesi.txt\",\"w\")\n",
        "```\n",
        "daha sonra\n",
        "\n",
        "\n",
        "\n",
        "```\n",
        "print(\"Yaziörnek\",file=dosya)\n",
        "```\n",
        "dersek artık bu dosyaya yazımızı yazdırmış oluyoruz.\n",
        "\n",
        "\n",
        "\n"
      ]
    },
    {
      "cell_type": "markdown",
      "metadata": {
        "id": "iqjWY2LbPc6S"
      },
      "source": [
        "***YILDIZLI PARAMETRELER***\n",
        "* Fonksiyonda istediğimiz kadar parametre almamızı sağlar.\n",
        "* Veya tek tek indeksleri çağırmamızı sağlar."
      ]
    },
    {
      "cell_type": "markdown",
      "metadata": {
        "id": "KylRPIfZTpN9"
      },
      "source": [
        "**LİSTE VERİ TİPLERİ**\n",
        "* Liste oluşturmanın 2 yolu var:\n",
        "\n",
        "```\n",
        "a=list()\n",
        "b=[]\n",
        "\n",
        "```\n",
        "* Liste objesinin görevi birden fazla değeri bir değişkenin içinde tutmak.\n",
        "\n",
        "* Mesela sınıf adlı bir liste oluşturalım:\n",
        "\n",
        "\n",
        "```\n",
        "sinif = [\"Ali\",\"Mehmet\",\"Ayşe\",\"Utku\",\"Selim\"]\n",
        "\n",
        "```\n",
        "* Ben bu listeden istediğim öğrenciye(elemana) ulaşabilirim:\n",
        "\n",
        "\n",
        "```\n",
        "print(sinif[indis])\n",
        "# istediğim öğrencinin indisini yazıp çekebilirim.\n",
        "```\n",
        "* İstediğim elemanı silebilirim:\n",
        "\n",
        "\n",
        "```\n",
        "sinif.remove(\"Eleman adi\")\n",
        "#ayrica eleman sayisini print(len(sinif)) şeklinde öğrenebilirim\n",
        "```\n",
        "* İstdediğim elemanı çağırabilirim:\n",
        "\n",
        "\n",
        "```\n",
        "sinif.append(\"ekleyeceğin şey\")\n",
        "```\n",
        "\n",
        "* Listeyi sıralayabilirim:\n",
        "\n",
        "\n",
        "```\n",
        "liste.sort():küçükten büyüğe\n",
        "liste.sort(reverse=True):Büyükten küçüğe\n",
        "# ya da stringse *ALFABETİK* sıralar.\n",
        "\n",
        "```\n",
        "\n",
        "\n",
        "\n",
        "\n",
        "\n"
      ]
    },
    {
      "cell_type": "markdown",
      "metadata": {
        "id": "brDLg5-yCbMb"
      },
      "source": [
        "**TUPLE VERİ TİPLERİ**\n",
        "* **Tuple Nasıl Oluşturulur?**\n",
        "\n",
        "\n",
        "```\n",
        "a=()\n",
        "# ya da\n",
        "b=tuple()\n",
        "```\n",
        "* **Tuple içerisinde varolan bir değer değiştirilemez.Ama yeni bir değer eklenebilir.**\n",
        "* Tuple içerisindeki bir değerin indexini öğrenmek için **index** fonksyonu kullanmalıyız:\n",
        "\n",
        "\n",
        "```\n",
        "yeni= (10,20,30,\"ali\",\"emre\")\n",
        "yeni.index(istediğiniz değer)\n",
        "```\n",
        "* Birde **count** fonksiyonu var.Bu fonnksiyon bir değerden kaç tane olduğunu gösterir:\n",
        "\n",
        "\n",
        "```\n",
        "ornek=(\"ali\",\"emre\",20,10,31,31,\"ali\")\n",
        "ornek.count(istediğiniz değer)\n",
        "\n",
        "```\n",
        "\n",
        "\n",
        "\n",
        "\n"
      ]
    },
    {
      "cell_type": "code",
      "execution_count": null,
      "metadata": {
        "colab": {
          "base_uri": "https://localhost:8080/"
        },
        "id": "RSxsGmKxEuD_",
        "outputId": "a7327f1b-adac-4865-aa27-4374b67bf51b"
      },
      "outputs": [
        {
          "data": {
            "text/plain": [
              "2"
            ]
          },
          "execution_count": 1,
          "metadata": {},
          "output_type": "execute_result"
        }
      ],
      "source": [
        "ornek=(\"ali\",\"emre\",20,10,31,31,\"ali\")\n",
        "ornek.count(\"ali\")\n"
      ]
    },
    {
      "cell_type": "markdown",
      "metadata": {
        "id": "2tCHgkunFUrM"
      },
      "source": [
        "**SÖZLÜK VERİ TİPLERİ**\n",
        "* Sözlük oluşturmanın iki yolu var:\n",
        "\n",
        "\n",
        "```\n",
        "sozluk1={}\n",
        "# ya da \n",
        "sozluk2=dict()\n",
        "```\n",
        "* sozluk=[anahtar değer]\n",
        "* **Örnek:**t\n",
        "\n",
        "```\n",
        "sozluk={\"isim\":\"ALİ\",\"soyisim\":\"Utku\",\"yas\":12}\n",
        "```\n",
        "* Sözlüğü temizlemek için:\n",
        "\n",
        "\n",
        "```\n",
        "sozluk.clear()\n",
        "```\n",
        "* Sözlüğü kopyalamak:\n",
        "\n",
        "\n",
        "```\n",
        "sozlukkopya= sozluk.copy()\n",
        "```\n",
        "\n",
        "* Sözlükten istediğimiz değeri silmek için:\n",
        "\n",
        "```\n",
        "sozluk.pop(\"Silmek istediğiniz değer\")\n",
        "```\n",
        "*Anahtar değerleri görmek için:\n",
        "\n",
        "```\n",
        "sozluk.keys()\n",
        "```\n",
        "\n",
        "\n",
        "\n",
        "\n",
        "\n",
        "\n",
        "\n"
      ]
    },
    {
      "cell_type": "markdown",
      "metadata": {
        "id": "ZI-SJzzqnMmX"
      },
      "source": [
        "**Input() Fonksiyonu:**\n",
        "* Kullanıcıdan giriş istememmizi sağlayan fonksiyondur en basit tanımıyla.\n",
        "* Mesela girilen bir sayının karesini alan program yazalım:\n"
      ]
    },
    {
      "cell_type": "code",
      "execution_count": null,
      "metadata": {
        "colab": {
          "base_uri": "https://localhost:8080/"
        },
        "id": "RCLpirftn3B2",
        "outputId": "304faf96-9000-40e9-cf05-008a72924797"
      },
      "outputs": [
        {
          "name": "stdout",
          "output_type": "stream",
          "text": [
            "Bir sayi giriniz:31\n",
            "961\n"
          ]
        }
      ],
      "source": [
        "def kareal(a):\n",
        "  return a**2\n",
        "sayi=int(input(\"Bir sayi giriniz:\"))\n",
        "print(kareal(sayi))     "
      ]
    },
    {
      "cell_type": "markdown",
      "metadata": {
        "id": "Gz5QuRBWoUBN"
      },
      "source": [
        "* Yukarıdaki örnekte kullanıcıdan bir sayı girmesini istedik ve bunu tam sayıya dönüştürdük daha sonra fonksiyonumuz çalıştı."
      ]
    },
    {
      "cell_type": "code",
      "execution_count": null,
      "metadata": {
        "colab": {
          "base_uri": "https://localhost:8080/"
        },
        "id": "v-uTRdLFoz8M",
        "outputId": "068ca180-cd36-454a-8f40-b1e404db73ff"
      },
      "outputs": [
        {
          "name": "stdout",
          "output_type": "stream",
          "text": [
            "1.kenarı giriniz:3\n",
            "2.kenarı giriniz:4\n",
            "hipotenüs: 5.0\n"
          ]
        }
      ],
      "source": [
        "a=float(input(\"1.kenarı giriniz:\"))\n",
        "b=float(input(\"2.kenarı giriniz:\"))\n",
        "hipotenus=((a**2)+(b**2))**(1/2)\n",
        "print(\"hipotenüs:\",hipotenus)"
      ]
    },
    {
      "cell_type": "code",
      "execution_count": null,
      "metadata": {
        "colab": {
          "base_uri": "https://localhost:8080/"
        },
        "id": "fUYTdCIIpzgC",
        "outputId": "8a0acf7f-2f39-417d-8f98-17c0bad6b1d5"
      },
      "outputs": [
        {
          "name": "stdout",
          "output_type": "stream",
          "text": [
            "Gerilim değerini giriniz:100\n",
            "Direnci giriniz:0\n",
            "Direnç 0 olamaz!!! Tekrar giriniz:0\n",
            "Direnç 0 olamaz!!! Tekrar giriniz:0\n",
            "Direnç 0 olamaz!!! Tekrar giriniz:31\n",
            "Akım değeri: 3.225806451612903\n"
          ]
        }
      ],
      "source": [
        "V=float(input(\"Gerilim değerini giriniz:\"))\n",
        "R=float(input(\"Direnci giriniz:\"))\n",
        "while True:\n",
        "  if R==0:\n",
        "    R=float(input(\"Direnç 0 olamaz!!! Tekrar giriniz:\"))\n",
        "  else:\n",
        "      break\n",
        "i=V/R\n",
        "print(\"Akım değeri:\",i)"
      ]
    },
    {
      "cell_type": "code",
      "execution_count": null,
      "metadata": {
        "colab": {
          "base_uri": "https://localhost:8080/"
        },
        "id": "5K4sxuqcrwJe",
        "outputId": "b6f29c26-0e84-4491-eb6f-c2a26bb844b3"
      },
      "outputs": [
        {
          "name": "stdout",
          "output_type": "stream",
          "text": [
            "İngilizce kelime giriniz:apple\n",
            "Türkçesini giriniz:elma\n",
            "{'apple': 'elma'}\n"
          ]
        }
      ],
      "source": [
        "kelimeler=dict()\n",
        "ingk=input(\"İngilizce kelime giriniz:\")\n",
        "trk=input(\"Türkçesini giriniz:\")\n",
        "kelimeler[ingk]= trk\n",
        "print(kelimeler)\n",
        "\n"
      ]
    },
    {
      "cell_type": "markdown",
      "metadata": {
        "id": "NGtVlcZCFU-n"
      },
      "source": [
        "**Mantıksal İfadeler**\n",
        "* Olay tamamen **True** ve **False** kavramlarıdır.\n",
        "* İlk başta **boolean** kavramından bahsedelim: *True veya False kavramlarını tutan veri tipidir ve kısaltması **bool**  dur.*\n",
        "*Mesela değişken atayalım:\n",
        "\n",
        "\n",
        "```\n",
        "a=5\n",
        "b=1\n",
        "c=0\n",
        "d=4\n",
        "print(bool())\n",
        "#Buraya hepsini yazdığımızı düşünelim c dışında hepsini true olarak gösterecek çünkü 0 dışında tüm değerler true'dur.\n",
        "```\n",
        "* Doğruluk değerlerini kontrolde edebiliriz:\n",
        "\n",
        "\n"
      ]
    },
    {
      "cell_type": "code",
      "execution_count": null,
      "metadata": {
        "colab": {
          "base_uri": "https://localhost:8080/"
        },
        "id": "xpqbpDu8IRcw",
        "outputId": "3df16a29-dad9-4d3c-e899-74ef5450a9d6"
      },
      "outputs": [
        {
          "name": "stdout",
          "output_type": "stream",
          "text": [
            "False\n"
          ]
        },
        {
          "data": {
            "text/plain": [
              "True"
            ]
          },
          "execution_count": 3,
          "metadata": {},
          "output_type": "execute_result"
        }
      ],
      "source": [
        "a=\"Ali\"\n",
        "b=\"emre\"\n",
        "c=\"Ali\"\n",
        "print(a==b)\n",
        "a==c"
      ]
    },
    {
      "cell_type": "markdown",
      "metadata": {
        "id": "p-eciHOSIjBQ"
      },
      "source": [
        "* Yukardaki örnekte stringlerin indislerinin birbiriyle eşit(aynı) olması durumunu bilgisayar true ya da false şeklinde bize gösterdi.\n",
        "* Ve bir dipnot: **!=** işareti eşit değilse demektir.\n"
      ]
    },
    {
      "cell_type": "markdown",
      "metadata": {
        "id": "-qgBU0SKJAqO"
      },
      "source": [
        "**Mantıksal Bağlaçlar**\n",
        "\n",
        "* **AND(ve) Bağlacı**\n",
        "* *and* bağlacında iki tane koşul(olay) doğruysa anca işlem doğru birisi yanlışsa işlem yanlış sayılır.\n",
        "\n",
        "* **OR(ya da) Bağlacı**\n",
        "* *or* bağlacında ise iki olayda yanlışsa işlem yanlış diğer durumlarda işlem doğru sayılır.\n"
      ]
    },
    {
      "cell_type": "code",
      "execution_count": null,
      "metadata": {
        "colab": {
          "base_uri": "https://localhost:8080/"
        },
        "id": "qBhyoJ44KDcH",
        "outputId": "2a5d15a5-ff41-4eec-b2ed-351aba34a0ce"
      },
      "outputs": [
        {
          "name": "stdout",
          "output_type": "stream",
          "text": [
            "True\n",
            "False\n",
            "True\n"
          ]
        }
      ],
      "source": [
        "print(5==5 and \"ali\"==\"ali\")\n",
        "print(4==3 and \"ali\"==\"ali\")\n",
        "print(3==2 or \"ali\"==\"ali\")"
      ]
    },
    {
      "cell_type": "markdown",
      "metadata": {
        "id": "J1Eq0imJKfZb"
      },
      "source": [
        "Yukardaki örnekte olduğu gibi bağlaçların sonucunu gösterdi."
      ]
    },
    {
      "cell_type": "markdown",
      "metadata": {
        "id": "p4je-DL_K37J"
      },
      "source": [
        "**If ve Else Kavramları**\n",
        "* Bir koşulu ve bu koşulun sonucuna göre kod bloğunun çalışmasını sağlayan yol göstericidir.\n",
        "* Mantıksal bir çalışma sistemi vardır yani 1-0 True-False.Bundan dolayı koşulları boolean olarak algılar.\n",
        "\n",
        "Örnekler:\n",
        "\n"
      ]
    },
    {
      "cell_type": "code",
      "execution_count": null,
      "metadata": {
        "id": "AyCMpgnMw3AJ",
        "colab": {
          "base_uri": "https://localhost:8080/"
        },
        "outputId": "5b266d84-1df9-4804-b2d4-2e7950b982cf"
      },
      "outputs": [
        {
          "output_type": "stream",
          "name": "stdout",
          "text": [
            "İsminizi giriniz:ali emre\n",
            "soyisminizi giriniz:utku\n",
            "Vize notunu giriniz:31\n",
            "final notunu giriniz:55\n",
            "Başarı puanınız: 45\n",
            "HARF NOTUN:CC\n"
          ]
        }
      ],
      "source": [
        "isim=input(\"İsminizi giriniz:\")\n",
        "soyisim=input(\"soyisminizi giriniz:\")\n",
        "vize=float(input(\"Vize notunu giriniz:\"))\n",
        "final=float(input(\"final notunu giriniz:\"))\n",
        "puan=(vize*0.4)+(final*0.6)\n",
        "print(\"Başarı puanınız:\",int(puan))\n",
        "if 85<puan<100:\n",
        "  print(\"HARF NOTUN:AA\")\n",
        "elif 70<puan<85:\n",
        "  print(\"HARF NOTUN:BA\")\n",
        "elif 60<puan<70:\n",
        "  print(\"HARF NOTUN:BB\")\n",
        "elif 50<puan<60:\n",
        "  print(\"HARF NOTUN:CB\")\n",
        "elif 40<puan<50:\n",
        "  print(\"HARF NOTUN:CC\")\n",
        "elif 0<puan<50:\n",
        "  print(\"HARF NOTUN:FF\")"
      ]
    },
    {
      "cell_type": "markdown",
      "metadata": {
        "id": "6pXTAtVe7Hdu"
      },
      "source": [
        "**FOR DÖNGÜSÜ**\n",
        "\n",
        "**in KAVRAMI**\n",
        "* Bu kavram pythonda bir değerin başka bir değer içinde olup olmadığını kontrol eder.Örnek:\n",
        "\n",
        "\n",
        "```\n",
        "a= \"i\" in \"Ali\"\n",
        "b= 4 in [1,2,3,4]\n",
        "c= \"m\" in \"Ali\"\n",
        "print(a,b,c)\n",
        "```\n",
        "* Yukardaki kodu çalıştırdığımızda bize a,b ve c nin true veya false olarak karşılığını verir çünkü kontrol mekanizması bunu değişkene bu şekilde atıyor.\n",
        "\n",
        "* Peki *for dönügüsü* ne işe yarar?\n",
        "- for döngüsünü bir örnek üzerinden anlatalım:\n",
        "\n",
        "\n",
        "```\n",
        "# Mesela bir liste tanımlayalım:\n",
        "liste=[1,2,3,4,5,6,7,8,9,10]\n",
        "# Sonra bu for döngüsüne sokalım ve bir işlem yaptırtalım\n",
        "for x in liste:\n",
        "  print(x**2)\n",
        "# Yukardaki kodu çalıştırdığımızda listenin içindeki tüm elemanları gezip karesini alıcak çünkü bu şekilde bir komut verdik. \n",
        "```\n",
        "* Yani for döngüsü verinin içinde gezinip biteseye kadar döngüyü devam ettirir ve komutları uygular.\n",
        "\n",
        "\n",
        "```\n",
        "# Birde touple üzerinde yapıp bitirelim:\n",
        "```\n",
        "**NOT**: Bu tür içinde gezinebidiğimiz objelere **IITERABLE OBJELER** denir."
      ]
    },
    {
      "cell_type": "code",
      "execution_count": null,
      "metadata": {
        "colab": {
          "base_uri": "https://localhost:8080/"
        },
        "id": "TXwiJVJr_U4C",
        "outputId": "c5b0c10d-374e-4c40-fea5-65a425a8da5b"
      },
      "outputs": [
        {
          "name": "stdout",
          "output_type": "stream",
          "text": [
            "(1, 31)\n",
            "(3, 2)\n",
            "(4, -5)\n",
            "(6, 0.5)\n"
          ]
        }
      ],
      "source": [
        "liste_1=[(1,31),(3,2),(4,-5),(6,0.5)]\n",
        "for x in liste_1:\n",
        "  print(x)"
      ]
    },
    {
      "cell_type": "markdown",
      "metadata": {
        "id": "KKtqoDxb_iRz"
      },
      "source": [
        "**WHILE DÖNGÜSÜ( 'A KADAR)**\n",
        "\n",
        "\n",
        "```\n",
        "while kosul:\n",
        "  komut\n",
        "```\n",
        "* Yukarda while'ın yanındaki koşul true olduğu sürece komut çalışmaya devam eder.\n",
        "c\n"
      ]
    },
    {
      "cell_type": "markdown",
      "metadata": {
        "id": "EKjFj24AyP3D"
      },
      "source": [
        "**RANGE KAVRAMI**\n",
        "* Mesela ekrana 1'den 1000 e kadar for döngüsüyle sayıları yazdırmak istiyorum.Fakat bunu yapmaya kalkarsak 1 den 100 e kadar yazmak zorunda kalırız.İşte bunun için range kullanabiliriz.Örnek:\n",
        "\n",
        "\n",
        "```\n",
        "for i in range(1000):\n",
        "  print(i)\n",
        "```\n",
        "* Bu şekilde 1 den 1000 e kadar yazar.Ama diyelim x sayısından y sayısına kadar ve özel artışlı sayılar istiyorum.\n",
        "\n",
        "\n",
        "```\n",
        "for i in range(x,y,artis miktarı):\n",
        "```\n",
        "  * Bu şekilde yapılabilir.\n",
        "\n",
        "\n"
      ]
    },
    {
      "cell_type": "markdown",
      "metadata": {
        "id": "fPz54AHz2jlq"
      },
      "source": [
        "**BREAK ve CONTINUNE KAVRAMLARI**\n",
        "* **Break:** Döngüyü kırar.(Ne olursa olsun bitirir.)\n",
        "\n"
      ]
    },
    {
      "cell_type": "code",
      "execution_count": null,
      "metadata": {
        "colab": {
          "base_uri": "https://localhost:8080/"
        },
        "id": "TkSNX2PLhuPl",
        "outputId": "e371af35-72bf-4a09-c2bd-b13644b44ad3"
      },
      "outputs": [
        {
          "name": "stdout",
          "output_type": "stream",
          "text": [
            "Bu döngü tek sayı giresiye kadar devam edecek.2\n",
            "Bu döngü tek sayı giresiye kadar devam edecek.4\n",
            "Bu döngü tek sayı giresiye kadar devam edecek.6\n",
            "Bu döngü tek sayı giresiye kadar devam edecek.5\n"
          ]
        }
      ],
      "source": [
        "while True:\n",
        "  n=int(input(\"Bu döngü tek sayı giresiye kadar devam edecek.\"))\n",
        "  if n%2==1:\n",
        "    break"
      ]
    },
    {
      "cell_type": "markdown",
      "metadata": {
        "id": "0IFialqwhztD"
      },
      "source": [
        "* **Continue:** Döngüde eğer contiune koşulu sağlanırsa döngüyü başa döndürür yani o komutu atlar ve döngü o çerçevede devam eder."
      ]
    },
    {
      "cell_type": "code",
      "execution_count": null,
      "metadata": {
        "id": "hatAsIgIikR8"
      },
      "outputs": [],
      "source": [
        "while True:\n",
        "  n=int(input(\"Eğer tek sayı girerseniz ekranda gözükmiycek.\"))\n",
        "  if n%2==1:\n",
        "    continue\n",
        "  print(n)"
      ]
    },
    {
      "cell_type": "markdown",
      "metadata": {
        "id": "Ufvl_Yc-jIwn"
      },
      "source": [
        "**LIST COMPREHENSION**\n",
        "* Kullanılması kolaylık sağlamakla birlikte zorunlu olmayan listeyle ilgili bir kavramdır:\n",
        "* Örneğin 1 den 1000 e kadar 2 ye ve 3 e aynı anda bölünen sayıları bir listeye atamak istiyorum:\n",
        "\n"
      ]
    },
    {
      "cell_type": "code",
      "execution_count": null,
      "metadata": {
        "colab": {
          "base_uri": "https://localhost:8080/"
        },
        "id": "J_zdLOkJlH1G",
        "outputId": "189c448b-f09e-4331-b430-18f0f96fecc1"
      },
      "outputs": [
        {
          "name": "stdout",
          "output_type": "stream",
          "text": [
            "[6, 12, 18, 24, 30, 36, 42, 48, 54, 60, 66, 72, 78, 84, 90, 96, 102, 108, 114, 120, 126, 132, 138, 144, 150, 156, 162, 168, 174, 180, 186, 192, 198, 204, 210, 216, 222, 228, 234, 240, 246, 252, 258, 264, 270, 276, 282, 288, 294, 300, 306, 312, 318, 324, 330, 336, 342, 348, 354, 360, 366, 372, 378, 384, 390, 396, 402, 408, 414, 420, 426, 432, 438, 444, 450, 456, 462, 468, 474, 480, 486, 492, 498, 504, 510, 516, 522, 528, 534, 540, 546, 552, 558, 564, 570, 576, 582, 588, 594, 600, 606, 612, 618, 624, 630, 636, 642, 648, 654, 660, 666, 672, 678, 684, 690, 696, 702, 708, 714, 720, 726, 732, 738, 744, 750, 756, 762, 768, 774, 780, 786, 792, 798, 804, 810, 816, 822, 828, 834, 840, 846, 852, 858, 864, 870, 876, 882, 888, 894, 900, 906, 912, 918, 924, 930, 936, 942, 948, 954, 960, 966, 972, 978, 984, 990, 996]\n"
          ]
        }
      ],
      "source": [
        "liste=[]\n",
        "for i in range(1,1001):\n",
        "  if i%2==0 and i%3==0:\n",
        "    liste.append(i)\n",
        "print(liste)"
      ]
    },
    {
      "cell_type": "markdown",
      "metadata": {
        "id": "O5scaqzllgWg"
      },
      "source": [
        "* Yukardaki örnekte 5 satırlık komut kullandık şimdi bunu tek satırda yapalım:"
      ]
    },
    {
      "cell_type": "code",
      "execution_count": null,
      "metadata": {
        "colab": {
          "background_save": true
        },
        "id": "8tXD3xLPlsXh",
        "outputId": "2f42891d-63f2-4927-aba5-d25dd5bce8a4"
      },
      "outputs": [
        {
          "name": "stdout",
          "output_type": "stream",
          "text": [
            "[6, 12, 18, 24, 30, 36, 42, 48, 54, 60, 66, 72, 78, 84, 90, 96, 102, 108, 114, 120, 126, 132, 138, 144, 150, 156, 162, 168, 174, 180, 186, 192, 198, 204, 210, 216, 222, 228, 234, 240, 246, 252, 258, 264, 270, 276, 282, 288, 294, 300, 306, 312, 318, 324, 330, 336, 342, 348, 354, 360, 366, 372, 378, 384, 390, 396, 402, 408, 414, 420, 426, 432, 438, 444, 450, 456, 462, 468, 474, 480, 486, 492, 498, 504, 510, 516, 522, 528, 534, 540, 546, 552, 558, 564, 570, 576, 582, 588, 594, 600, 606, 612, 618, 624, 630, 636, 642, 648, 654, 660, 666, 672, 678, 684, 690, 696, 702, 708, 714, 720, 726, 732, 738, 744, 750, 756, 762, 768, 774, 780, 786, 792, 798, 804, 810, 816, 822, 828, 834, 840, 846, 852, 858, 864, 870, 876, 882, 888, 894, 900, 906, 912, 918, 924, 930, 936, 942, 948, 954, 960, 966, 972, 978, 984, 990, 996]\n"
          ]
        }
      ],
      "source": [
        "liste=[x for x in range(1,1001) if i%2==0 and i%3==0]\n",
        "print(liste)"
      ]
    },
    {
      "cell_type": "markdown",
      "source": [
        "**FONKSİYONLAR**\n",
        "* **Python'da Fonksiyon:** Birden fazla kod içeren kod bloğu.\n",
        "* Aslında amacı bir sürü kod tekrarını yok etmek,yani zamandan tasaruf etmektir.\n",
        "* *def fonksiyonismi(parametre zorunlu değil):* bu şekilde biçimlendirilir.Örnek:\n",
        "* ***FONKSİYONLARI KULLANMAK ZORUNDA DEĞİLİZ AMA KOLAYLIK SAĞLAR.***\n"
      ],
      "metadata": {
        "id": "sjdomV1NL4JO"
      }
    },
    {
      "cell_type": "code",
      "source": [
        "def topla():\n",
        "  toplam=0\n",
        "  for i in range(100):\n",
        "    toplam=toplam+i\n",
        "  print(toplam)\n",
        "topla()"
      ],
      "metadata": {
        "colab": {
          "base_uri": "https://localhost:8080/"
        },
        "id": "WsP6J7WONOlD",
        "outputId": "74999bb0-4469-4601-cf84-21b8eebce89f"
      },
      "execution_count": null,
      "outputs": [
        {
          "output_type": "stream",
          "name": "stdout",
          "text": [
            "4950\n"
          ]
        }
      ]
    },
    {
      "cell_type": "markdown",
      "source": [
        "* Yukarda olduğu gibi bir fonksiyon tanımladık ve çağırdığımızda bize komutları çalıştırdı.\n",
        "* Peki parametreli olabilir mi? :"
      ],
      "metadata": {
        "id": "WfHd3lztNnv4"
      }
    },
    {
      "cell_type": "code",
      "source": [
        "sayi=int(input(\"Sayı giriniz:\"))\n",
        "def topla(sayi):\n",
        "  toplam=0\n",
        "  for i in range(sayi):\n",
        "    toplam=toplam+i\n",
        "  print(toplam)\n",
        "topla(sayi)"
      ],
      "metadata": {
        "colab": {
          "base_uri": "https://localhost:8080/"
        },
        "id": "rsC9dDWKN4oN",
        "outputId": "2398549f-f361-41ae-e98f-61460dc92135"
      },
      "execution_count": null,
      "outputs": [
        {
          "output_type": "stream",
          "name": "stdout",
          "text": [
            "Sayı giriniz:10\n",
            "45\n"
          ]
        }
      ]
    },
    {
      "cell_type": "markdown",
      "source": [
        "* Bu şekilde parametre yazıp kullandık birden fazla parametrede kullanılabilir.\n",
        "\n",
        "\n",
        "```\n",
        "yazi=input(\"Metin giriniz:\")\n",
        "sayi=int(input(\"Sayı giriniz:\"))\n",
        "def topla(sayi,yazi):\n",
        "  toplam=0\n",
        "  for i in range(sayi):\n",
        "    toplam=toplam+i\n",
        "  print(toplam,yazi)\n",
        "topla(sayi)\n",
        "# BUDA BİRDEN FAZLA PARAMETRE KULLANILABİLECEĞİNİN ÖRNEĞİDİR.\n",
        "```\n",
        "\n"
      ],
      "metadata": {
        "id": "IjZ9XsRRODKT"
      }
    },
    {
      "cell_type": "markdown",
      "source": [
        "**FONKSİYONLAR VE RETURN**\n",
        "\n"
      ],
      "metadata": {
        "id": "gmWGskCKPoId"
      }
    },
    {
      "cell_type": "markdown",
      "source": [
        "* Return : Fonksiyonun altında kod döndürür.\n"
      ],
      "metadata": {
        "id": "GQlrkMSuCU-2"
      }
    },
    {
      "cell_type": "code",
      "source": [
        "def topla(a,b):\n",
        "  return a+b\n",
        "print(topla(3,2))"
      ],
      "metadata": {
        "id": "O6xwWGs5jiEz"
      },
      "execution_count": null,
      "outputs": []
    },
    {
      "cell_type": "markdown",
      "source": [
        "**FONKSİYONLAR VE PARAMETRE**\n",
        "* **Normal Parametre Alma:**\n",
        "\n",
        "\n",
        "```\n",
        "def topla(a,b)\n",
        "  return a+b\n",
        "#gibi\n",
        "```\n",
        "**Yıldızlı Parametre**\n",
        "* Amacı parametre sayısını serbest kılmaktır.\n",
        "\n"
      ],
      "metadata": {
        "id": "rAmOzCbmkXLR"
      }
    },
    {
      "cell_type": "code",
      "source": [
        "\n",
        "def listekaydet(isim,soyisim,tel):\n",
        "  liste=[]\n",
        "  liste.append(isim)\n",
        "  liste.append(soyisim)\n",
        "  liste.append(tel)\n",
        "  return liste\n",
        "listekaydet(\"ali\",\"emre\",\"2312131312\")"
      ],
      "metadata": {
        "colab": {
          "base_uri": "https://localhost:8080/"
        },
        "id": "ry0tvb6pt7hV",
        "outputId": "d31c9132-d97c-4059-f930-0b1983ceb160"
      },
      "execution_count": null,
      "outputs": [
        {
          "output_type": "execute_result",
          "data": {
            "text/plain": [
              "['ali', 'emre', '2312131312']"
            ]
          },
          "metadata": {},
          "execution_count": 9
        }
      ]
    }
  ],
  "metadata": {
    "colab": {
      "collapsed_sections": [],
      "name": "MYNOTES.ipynb",
      "provenance": [],
      "toc_visible": true,
      "authorship_tag": "ABX9TyMaaPqy+SkuZhOR5Y1nFKIr",
      "include_colab_link": true
    },
    "kernelspec": {
      "display_name": "Python 3",
      "name": "python3"
    },
    "language_info": {
      "name": "python"
    }
  },
  "nbformat": 4,
  "nbformat_minor": 0
}